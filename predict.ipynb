{
 "cells": [
  {
   "cell_type": "code",
   "execution_count": 78,
   "metadata": {},
   "outputs": [],
   "source": [
    "import firebase_admin\n",
    "from firebase_admin import credentials\n",
    "from firebase_admin import firestore\n",
    "import pandas as pd\n",
    "from sklearn.tree import DecisionTreeClassifier\n",
    "from sklearn.ensemble import GradientBoostingClassifier, RandomForestClassifier\n",
    "from sklearn.metrics import accuracy_score\n",
    "from sklearn.model_selection import train_test_split\n",
    "from sklearn.preprocessing import StandardScaler\n",
    "from sklearn.model_selection import cross_val_score\n",
    "scaler = StandardScaler()\n",
    "\n"
   ]
  },
  {
   "cell_type": "code",
   "execution_count": 79,
   "metadata": {},
   "outputs": [
    {
     "name": "stdout",
     "output_type": "stream",
     "text": [
      "            id        Date Location  MinTemp  MaxTemp  Rainfall WindGustDir  \\\n",
      "0            1  2008-12-01   Albury     13.4     22.9       0.6           W   \n",
      "1            2  2008-12-02   Albury      7.4     25.1       0.0         WNW   \n",
      "2            3  2008-12-03   Albury     12.9     25.7       0.0         WSW   \n",
      "3            4  2008-12-04   Albury      9.2     28.0       0.0          NE   \n",
      "4            5  2008-12-05   Albury     17.5     32.3       1.0           W   \n",
      "...        ...         ...      ...      ...      ...       ...         ...   \n",
      "112955  112956  2017-06-20    Uluru      3.5     21.8       0.0           E   \n",
      "112956  112957  2017-06-21    Uluru      2.8     23.4       0.0           E   \n",
      "112957  112958  2017-06-22    Uluru      3.6     25.3       0.0         NNW   \n",
      "112958  112959  2017-06-23    Uluru      5.4     26.9       0.0           N   \n",
      "112959  112960  2017-06-24    Uluru      7.8     27.0       0.0          SE   \n",
      "\n",
      "        WindGustSpeed WindDir9am WindDir3pm  ...  Pressure3pm  Temp9am  \\\n",
      "0                44.0          W        WNW  ...       1007.1     16.9   \n",
      "1                44.0        NNW        WSW  ...       1007.8     17.2   \n",
      "2                46.0          W        WSW  ...       1008.7     21.0   \n",
      "3                24.0         SE          E  ...       1012.8     18.1   \n",
      "4                41.0        ENE         NW  ...       1006.0     17.8   \n",
      "...               ...        ...        ...  ...          ...      ...   \n",
      "112955           31.0        ESE          E  ...       1021.2      9.4   \n",
      "112956           31.0         SE        ENE  ...       1020.3     10.1   \n",
      "112957           22.0         SE          N  ...       1019.1     10.9   \n",
      "112958           37.0         SE        WNW  ...       1016.8     12.5   \n",
      "112959           28.0        SSE          N  ...       1016.5     15.1   \n",
      "\n",
      "        Temp3pm  RainToday  RainTomorrow  AvgTemp    AvgWind  AvgRainfall  \\\n",
      "0          21.8         No            No    18.15  29.333333          0.6   \n",
      "1          24.3         No            No    16.25  23.333333          0.0   \n",
      "2          23.2         No            No    19.30  30.333333          0.0   \n",
      "3          26.5         No            No    18.60  14.666667          0.0   \n",
      "4          29.7         No            No    24.90  22.666667          1.0   \n",
      "...         ...        ...           ...      ...        ...          ...   \n",
      "112955     20.9         No            No    12.65  19.666667          0.0   \n",
      "112956     22.4         No            No    13.10  18.333333          0.0   \n",
      "112957     24.5         No            No    14.45  14.666667          0.0   \n",
      "112958     26.1         No            No    16.15  18.333333          0.0   \n",
      "112959     26.0         No            No    17.40  16.000000          0.0   \n",
      "\n",
      "       AvgHumidity AvgPressure  \n",
      "0             46.5     1007.40  \n",
      "1             34.5     1009.20  \n",
      "2             34.0     1008.15  \n",
      "3             30.5     1015.20  \n",
      "4             57.5     1008.40  \n",
      "...            ...         ...  \n",
      "112955        43.0     1022.95  \n",
      "112956        37.5     1022.45  \n",
      "112957        38.5     1021.30  \n",
      "112958        38.5     1018.90  \n",
      "112959        37.5     1017.95  \n",
      "\n",
      "[112960 rows x 25 columns]\n"
     ]
    }
   ],
   "source": [
    "# read csv file\n",
    "data = pd.read_csv('modified_weatherAUS.csv')\n",
    "df = pd.DataFrame(data)\n",
    "print(df)"
   ]
  },
  {
   "cell_type": "code",
   "execution_count": 80,
   "metadata": {},
   "outputs": [
    {
     "name": "stdout",
     "output_type": "stream",
     "text": [
      "        MinTemp  MaxTemp  Rainfall  WindGustSpeed  WindSpeed9am  WindSpeed3pm  \\\n",
      "0          13.4     22.9       0.6           44.0          20.0          24.0   \n",
      "1           7.4     25.1       0.0           44.0           4.0          22.0   \n",
      "2          12.9     25.7       0.0           46.0          19.0          26.0   \n",
      "3           9.2     28.0       0.0           24.0          11.0           9.0   \n",
      "4          17.5     32.3       1.0           41.0           7.0          20.0   \n",
      "...         ...      ...       ...            ...           ...           ...   \n",
      "112955      3.5     21.8       0.0           31.0          15.0          13.0   \n",
      "112956      2.8     23.4       0.0           31.0          13.0          11.0   \n",
      "112957      3.6     25.3       0.0           22.0          13.0           9.0   \n",
      "112958      5.4     26.9       0.0           37.0           9.0           9.0   \n",
      "112959      7.8     27.0       0.0           28.0          13.0           7.0   \n",
      "\n",
      "        Humidity9am  Humidity3pm  Pressure9am  Pressure3pm  ...  \\\n",
      "0              71.0         22.0       1007.7       1007.1  ...   \n",
      "1              44.0         25.0       1010.6       1007.8  ...   \n",
      "2              38.0         30.0       1007.6       1008.7  ...   \n",
      "3              45.0         16.0       1017.6       1012.8  ...   \n",
      "4              82.0         33.0       1010.8       1006.0  ...   \n",
      "...             ...          ...          ...          ...  ...   \n",
      "112955         59.0         27.0       1024.7       1021.2  ...   \n",
      "112956         51.0         24.0       1024.6       1020.3  ...   \n",
      "112957         56.0         21.0       1023.5       1019.1  ...   \n",
      "112958         53.0         24.0       1021.0       1016.8  ...   \n",
      "112959         51.0         24.0       1019.4       1016.5  ...   \n",
      "\n",
      "        WindDir3pm_SSE  WindDir3pm_SSW  WindDir3pm_SW  WindDir3pm_W  \\\n",
      "0                    0               0              0             0   \n",
      "1                    0               0              0             0   \n",
      "2                    0               0              0             0   \n",
      "3                    0               0              0             0   \n",
      "4                    0               0              0             0   \n",
      "...                ...             ...            ...           ...   \n",
      "112955               0               0              0             0   \n",
      "112956               0               0              0             0   \n",
      "112957               0               0              0             0   \n",
      "112958               0               0              0             0   \n",
      "112959               0               0              0             0   \n",
      "\n",
      "        WindDir3pm_WNW  WindDir3pm_WSW  RainToday_No  RainToday_Yes  \\\n",
      "0                    1               0             1              0   \n",
      "1                    0               1             1              0   \n",
      "2                    0               1             1              0   \n",
      "3                    0               0             1              0   \n",
      "4                    0               0             1              0   \n",
      "...                ...             ...           ...            ...   \n",
      "112955               0               0             1              0   \n",
      "112956               0               0             1              0   \n",
      "112957               0               0             1              0   \n",
      "112958               1               0             1              0   \n",
      "112959               0               0             1              0   \n",
      "\n",
      "        RainTomorrow_No  RainTomorrow_Yes  \n",
      "0                     1                 0  \n",
      "1                     1                 0  \n",
      "2                     1                 0  \n",
      "3                     1                 0  \n",
      "4                     1                 0  \n",
      "...                 ...               ...  \n",
      "112955                1                 0  \n",
      "112956                1                 0  \n",
      "112957                1                 0  \n",
      "112958                1                 0  \n",
      "112959                1                 0  \n",
      "\n",
      "[112960 rows x 69 columns]\n"
     ]
    }
   ],
   "source": [
    "# Remove irrelevant columns\n",
    "df = df.drop(columns=[ \"id\",\"Date\", \"Location\"])\n",
    "# Encode categorical variables\n",
    "df = pd.get_dummies(df, columns=[\"WindGustDir\", \"WindDir9am\", \"WindDir3pm\", \"RainToday\", \"RainTomorrow\"])\n",
    "print(df)"
   ]
  },
  {
   "cell_type": "code",
   "execution_count": 81,
   "metadata": {},
   "outputs": [
    {
     "name": "stdout",
     "output_type": "stream",
     "text": [
      "0         0\n",
      "1         0\n",
      "2         0\n",
      "3         0\n",
      "4         0\n",
      "         ..\n",
      "112955    0\n",
      "112956    0\n",
      "112957    0\n",
      "112958    0\n",
      "112959    0\n",
      "Name: RainTomorrow_Yes, Length: 112960, dtype: uint8\n"
     ]
    }
   ],
   "source": [
    "\n",
    "# Split the data into features and target variable\n",
    "X = df.drop(columns=[\"RainTomorrow_Yes\"])\n",
    "y = df[\"RainTomorrow_Yes\"]\n",
    "print(y)\n",
    "# Split the data into training and testing sets\n",
    "X_train, X_test, y_train, y_test = train_test_split(X, y, test_size=0.8, random_state=42)"
   ]
  },
  {
   "cell_type": "code",
   "execution_count": 82,
   "metadata": {},
   "outputs": [],
   "source": [
    "# Create decision tree model\n",
    "dt_model = DecisionTreeClassifier(random_state=42)\n",
    "\n",
    "# Create gradient boosting model\n",
    "gb_model = GradientBoostingClassifier(random_state=42)\n",
    "\n",
    "# Create random forest model\n",
    "rf_model = RandomForestClassifier(random_state=42)"
   ]
  },
  {
   "cell_type": "code",
   "execution_count": 83,
   "metadata": {},
   "outputs": [],
   "source": [
    "# # Train decision tree model\n",
    "# dt_model.fit(X_train, y_train)\n",
    "\n",
    "# # Train gradient boosting model\n",
    "# gb_model.fit(X_train, y_train)\n",
    "\n",
    "# # Train random forest model\n",
    "# rf_model.fit(X_train, y_train)\n",
    "\n",
    "# create the cross-validation objects\n",
    "cv = 5  # number of folds\n",
    "dt_cv = cross_val_score(dt_model, X_train, y_train, cv=cv)\n",
    "gb_cv = cross_val_score(gb_model, X_train, y_train, cv=cv)\n",
    "rf_cv = cross_val_score(rf_model, X_train, y_train, cv=cv)\n"
   ]
  },
  {
   "cell_type": "code",
   "execution_count": 84,
   "metadata": {},
   "outputs": [
    {
     "name": "stdout",
     "output_type": "stream",
     "text": [
      "Decision Tree accuracy: 1.000\n",
      "Gradient Boosting accuracy: 1.000\n",
      "Random Forest accuracy: 1.000\n"
     ]
    }
   ],
   "source": [
    "# # Evaluate decision tree model\n",
    "# dt_pred = dt_model.predict(X_test)\n",
    "# dt_acc = accuracy_score(y_test, dt_pred)\n",
    "\n",
    "# # Evaluate gradient boosting model\n",
    "# gb_pred = gb_model.predict(X_test)\n",
    "# gb_acc = accuracy_score(y_test, gb_pred)\n",
    "\n",
    "# # Evaluate randomforest model\n",
    "# rf_pred = rf_model.predict(X_test)\n",
    "# rf_acc = accuracy_score(y_test, rf_pred)\n",
    "\n",
    "# print(\"Decision Tree accuracy:\", dt_acc)\n",
    "# print(\"Gradient Boosting accuracy:\", gb_acc)\n",
    "# print(\"Random Forest accuracy:\", rf_acc)\n",
    "\n",
    "# print the cross-validation scores\n",
    "print(f\"Decision Tree accuracy: {dt_cv.mean():.3f}\")\n",
    "print(f\"Gradient Boosting accuracy: {gb_cv.mean():.3f}\")\n",
    "print(f\"Random Forest accuracy: {rf_cv.mean():.3f}\")"
   ]
  }
 ],
 "metadata": {
  "kernelspec": {
   "display_name": "Python 3",
   "language": "python",
   "name": "python3"
  },
  "language_info": {
   "codemirror_mode": {
    "name": "ipython",
    "version": 3
   },
   "file_extension": ".py",
   "mimetype": "text/x-python",
   "name": "python",
   "nbconvert_exporter": "python",
   "pygments_lexer": "ipython3",
   "version": "3.11.2"
  },
  "orig_nbformat": 4,
  "vscode": {
   "interpreter": {
    "hash": "b0fa6594d8f4cbf19f97940f81e996739fb7646882a419484c72d19e05852a7e"
   }
  }
 },
 "nbformat": 4,
 "nbformat_minor": 2
}
