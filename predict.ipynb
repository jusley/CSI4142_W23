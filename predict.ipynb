{
 "cells": [
  {
   "cell_type": "code",
   "execution_count": 1,
   "metadata": {},
   "outputs": [],
   "source": [
    "import pandas as pd\n",
    "from sklearn.preprocessing import LabelEncoder, StandardScaler\n",
    "from sklearn.model_selection import train_test_split\n",
    "from sklearn.tree import DecisionTreeClassifier\n",
    "from sklearn.metrics import accuracy_score\n",
    "from sklearn.tree import DecisionTreeClassifier\n",
    "from sklearn.ensemble import GradientBoostingClassifier, RandomForestClassifier\n",
    "from sklearn.metrics import accuracy_score\n",
    "from sklearn.model_selection import train_test_split\n",
    "from sklearn.preprocessing import StandardScaler\n",
    "from sklearn.metrics import classification_report, confusion_matrix\n",
    "from time import time\n",
    "\n",
    "import warnings\n",
    "\n",
    "# Ignore all warnings\n",
    "warnings.filterwarnings(\"ignore\")\n",
    "scaler = StandardScaler()\n",
    "\n"
   ]
  },
  {
   "cell_type": "code",
   "execution_count": 2,
   "metadata": {},
   "outputs": [
    {
     "name": "stdout",
     "output_type": "stream",
     "text": [
      "            id        Date Location  MinTemp  MaxTemp  Rainfall WindGustDir  \\\n",
      "0            1  2008-12-01   Albury     13.4     22.9       0.6           W   \n",
      "1            2  2008-12-02   Albury      7.4     25.1       0.0         WNW   \n",
      "2            3  2008-12-03   Albury     12.9     25.7       0.0         WSW   \n",
      "3            4  2008-12-04   Albury      9.2     28.0       0.0          NE   \n",
      "4            5  2008-12-05   Albury     17.5     32.3       1.0           W   \n",
      "...        ...         ...      ...      ...      ...       ...         ...   \n",
      "112955  112956  2017-06-20    Uluru      3.5     21.8       0.0           E   \n",
      "112956  112957  2017-06-21    Uluru      2.8     23.4       0.0           E   \n",
      "112957  112958  2017-06-22    Uluru      3.6     25.3       0.0         NNW   \n",
      "112958  112959  2017-06-23    Uluru      5.4     26.9       0.0           N   \n",
      "112959  112960  2017-06-24    Uluru      7.8     27.0       0.0          SE   \n",
      "\n",
      "        WindGustSpeed WindDir9am WindDir3pm  ...  Pressure3pm  Temp9am  \\\n",
      "0                44.0          W        WNW  ...       1007.1     16.9   \n",
      "1                44.0        NNW        WSW  ...       1007.8     17.2   \n",
      "2                46.0          W        WSW  ...       1008.7     21.0   \n",
      "3                24.0         SE          E  ...       1012.8     18.1   \n",
      "4                41.0        ENE         NW  ...       1006.0     17.8   \n",
      "...               ...        ...        ...  ...          ...      ...   \n",
      "112955           31.0        ESE          E  ...       1021.2      9.4   \n",
      "112956           31.0         SE        ENE  ...       1020.3     10.1   \n",
      "112957           22.0         SE          N  ...       1019.1     10.9   \n",
      "112958           37.0         SE        WNW  ...       1016.8     12.5   \n",
      "112959           28.0        SSE          N  ...       1016.5     15.1   \n",
      "\n",
      "        Temp3pm  RainToday  RainTomorrow  AvgTemp    AvgWind  AvgRainfall  \\\n",
      "0          21.8         No            No    18.15  29.333333          0.6   \n",
      "1          24.3         No            No    16.25  23.333333          0.0   \n",
      "2          23.2         No            No    19.30  30.333333          0.0   \n",
      "3          26.5         No            No    18.60  14.666667          0.0   \n",
      "4          29.7         No            No    24.90  22.666667          1.0   \n",
      "...         ...        ...           ...      ...        ...          ...   \n",
      "112955     20.9         No            No    12.65  19.666667          0.0   \n",
      "112956     22.4         No            No    13.10  18.333333          0.0   \n",
      "112957     24.5         No            No    14.45  14.666667          0.0   \n",
      "112958     26.1         No            No    16.15  18.333333          0.0   \n",
      "112959     26.0         No            No    17.40  16.000000          0.0   \n",
      "\n",
      "       AvgHumidity AvgPressure  \n",
      "0             46.5     1007.40  \n",
      "1             34.5     1009.20  \n",
      "2             34.0     1008.15  \n",
      "3             30.5     1015.20  \n",
      "4             57.5     1008.40  \n",
      "...            ...         ...  \n",
      "112955        43.0     1022.95  \n",
      "112956        37.5     1022.45  \n",
      "112957        38.5     1021.30  \n",
      "112958        38.5     1018.90  \n",
      "112959        37.5     1017.95  \n",
      "\n",
      "[112960 rows x 25 columns]\n"
     ]
    }
   ],
   "source": [
    "# Load data from CSV file\n",
    "df = pd.read_csv('modified_weatherAUS.csv')\n",
    "print(df)"
   ]
  },
  {
   "cell_type": "code",
   "execution_count": 3,
   "metadata": {},
   "outputs": [
    {
     "data": {
      "text/plain": [
       "0         No\n",
       "1         No\n",
       "2         No\n",
       "3         No\n",
       "4         No\n",
       "          ..\n",
       "112955    No\n",
       "112956    No\n",
       "112957    No\n",
       "112958    No\n",
       "112959    No\n",
       "Name: RainTomorrow, Length: 112960, dtype: object"
      ]
     },
     "execution_count": 3,
     "metadata": {},
     "output_type": "execute_result"
    }
   ],
   "source": [
    "# Select features and target\n",
    "features = ['Location', 'MinTemp', 'MaxTemp', 'Rainfall', 'WindGustDir', 'WindGustSpeed', \n",
    "            'WindDir9am', 'WindDir3pm', 'WindSpeed9am', 'WindSpeed3pm', 'Humidity9am', \n",
    "            'Humidity3pm', 'Pressure9am', 'Pressure3pm', 'Temp9am', 'Temp3pm', 'RainToday',\n",
    "            'AvgTemp', 'AvgWind', 'AvgRainfall', 'AvgHumidity', 'AvgPressure']\n",
    "target = 'RainTomorrow'\n",
    "X = df[features]\n",
    "y = df[target]\n",
    "X\n",
    "y"
   ]
  },
  {
   "cell_type": "code",
   "execution_count": 4,
   "metadata": {},
   "outputs": [],
   "source": [
    "# Convert categorical features to numerical using LabelEncoder\n",
    "categorical_features = ['Location', 'WindGustDir', 'WindDir9am', 'WindDir3pm', 'RainToday']\n",
    "encoders = {}\n",
    "for feature in categorical_features:\n",
    "    encoders[feature] = LabelEncoder()\n",
    "    X[feature] = encoders[feature].fit_transform(X[feature])\n",
    "\n"
   ]
  },
  {
   "cell_type": "code",
   "execution_count": 5,
   "metadata": {},
   "outputs": [
    {
     "data": {
      "text/plain": [
       "2271       No\n",
       "99471      No\n",
       "10025      No\n",
       "31065      No\n",
       "15044      No\n",
       "         ... \n",
       "104759    Yes\n",
       "94672     Yes\n",
       "34203     Yes\n",
       "112605    Yes\n",
       "101040     No\n",
       "Name: RainTomorrow, Length: 22592, dtype: object"
      ]
     },
     "execution_count": 5,
     "metadata": {},
     "output_type": "execute_result"
    }
   ],
   "source": [
    "# Split data into train and test sets\n",
    "X_train, X_test, y_train, y_test = train_test_split(X, y, test_size=0.2, random_state=42)\n",
    "X_train\n",
    "X_test\n",
    "y_train\n",
    "y_test"
   ]
  },
  {
   "cell_type": "code",
   "execution_count": 6,
   "metadata": {},
   "outputs": [
    {
     "name": "stdout",
     "output_type": "stream",
     "text": [
      "Time taken to construct decision tree model: 1.1061902046203613 seconds\n",
      "Classification report for decision tree model:\n",
      "              precision    recall  f1-score   support\n",
      "\n",
      "          No       0.87      0.86      0.86     17715\n",
      "         Yes       0.51      0.54      0.52      4877\n",
      "\n",
      "    accuracy                           0.79     22592\n",
      "   macro avg       0.69      0.70      0.69     22592\n",
      "weighted avg       0.79      0.79      0.79     22592\n",
      "\n",
      "Confusion matrix for decision tree model:\n",
      "[[15148  2567]\n",
      " [ 2230  2647]]\n",
      "Time taken to construct gradient boosting model: 17.86007308959961 seconds\n",
      "Classification report for gradient boosting model:\n",
      "              precision    recall  f1-score   support\n",
      "\n",
      "          No       0.87      0.95      0.91     17715\n",
      "         Yes       0.73      0.51      0.60      4877\n",
      "\n",
      "    accuracy                           0.85     22592\n",
      "   macro avg       0.80      0.73      0.75     22592\n",
      "weighted avg       0.84      0.85      0.84     22592\n",
      "\n",
      "Confusion matrix for gradient boosting model:\n",
      "[[16798   917]\n",
      " [ 2405  2472]]\n",
      "Time taken to construct random forest model: 13.073096990585327 seconds\n",
      "Classification report for random forest model:\n",
      "              precision    recall  f1-score   support\n",
      "\n",
      "          No       0.88      0.95      0.91     17715\n",
      "         Yes       0.74      0.52      0.61      4877\n",
      "\n",
      "    accuracy                           0.86     22592\n",
      "   macro avg       0.81      0.73      0.76     22592\n",
      "weighted avg       0.85      0.86      0.85     22592\n",
      "\n",
      "Confusion matrix for random forest model:\n",
      "[[16825   890]\n",
      " [ 2361  2516]]\n"
     ]
    }
   ],
   "source": [
    "\n",
    "# Scale numeric features using StandardScaler\n",
    "scaler = StandardScaler()\n",
    "numeric_features = list(set(features) - set(categorical_features))\n",
    "X_train[numeric_features] = scaler.fit_transform(X_train[numeric_features])\n",
    "X_test[numeric_features] = scaler.transform(X_test[numeric_features])\n",
    "\n",
    "# Train decision tree classifier and predict on test set\n",
    "dt_model = DecisionTreeClassifier(random_state=42)\n",
    "start_time = time()\n",
    "dt_model.fit(X_train, y_train)\n",
    "end_time = time()\n",
    "print('Time taken to construct decision tree model:', end_time - start_time, 'seconds')\n",
    "dt_predict = dt_model.predict(X_test)\n",
    "print('Classification report for decision tree model:')\n",
    "print(classification_report(y_test, dt_predict))\n",
    "print('Confusion matrix for decision tree model:')\n",
    "print(confusion_matrix(y_test, dt_predict))\n",
    "\n",
    "# Create gradient boosting model\n",
    "gb_model = GradientBoostingClassifier(random_state=42)\n",
    "start_time = time()\n",
    "gb_model.fit(X_train, y_train)\n",
    "end_time = time()\n",
    "print('Time taken to construct gradient boosting model:', end_time - start_time, 'seconds')\n",
    "gb_predict = gb_model.predict(X_test)\n",
    "print('Classification report for gradient boosting model:')\n",
    "print(classification_report(y_test, gb_predict))\n",
    "print('Confusion matrix for gradient boosting model:')\n",
    "print(confusion_matrix(y_test, gb_predict))\n",
    "\n",
    "# Create random forest model\n",
    "rf_model = RandomForestClassifier(random_state=42)\n",
    "start_time = time()\n",
    "rf_model.fit(X_train, y_train)\n",
    "end_time = time()\n",
    "print('Time taken to construct random forest model:', end_time - start_time, 'seconds')\n",
    "rf_predict = rf_model.predict(X_test)\n",
    "print('Classification report for random forest model:')\n",
    "print(classification_report(y_test, rf_predict))\n",
    "print('Confusion matrix for random forest model:')\n",
    "print(confusion_matrix(y_test, rf_predict))\n"
   ]
  },
  {
   "cell_type": "code",
   "execution_count": 7,
   "metadata": {},
   "outputs": [
    {
     "name": "stdout",
     "output_type": "stream",
     "text": [
      "decision tree accuracy: 0.7876682011331445\n",
      "gradient boosting accuracy: 0.8529567988668555\n",
      "random forest accuracy: 0.8560995042492918\n"
     ]
    }
   ],
   "source": [
    "# Evaluate accuracy\n",
    "dt_acc = accuracy_score(y_test, dt_predict)\n",
    "gb_acc = accuracy_score(y_test, gb_predict)\n",
    "rf_acc = accuracy_score(y_test, rf_predict)\n",
    "\n",
    "print('decision tree accuracy:', dt_acc)\n",
    "print('gradient boosting accuracy:', gb_acc)\n",
    "print('random forest accuracy:', rf_acc)\n"
   ]
  }
 ],
 "metadata": {
  "kernelspec": {
   "display_name": "Python 3",
   "language": "python",
   "name": "python3"
  },
  "language_info": {
   "codemirror_mode": {
    "name": "ipython",
    "version": 3
   },
   "file_extension": ".py",
   "mimetype": "text/x-python",
   "name": "python",
   "nbconvert_exporter": "python",
   "pygments_lexer": "ipython3",
   "version": "3.11.2"
  },
  "orig_nbformat": 4,
  "vscode": {
   "interpreter": {
    "hash": "b0fa6594d8f4cbf19f97940f81e996739fb7646882a419484c72d19e05852a7e"
   }
  }
 },
 "nbformat": 4,
 "nbformat_minor": 2
}
