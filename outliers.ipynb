{
 "cells": [
  {
   "cell_type": "code",
   "execution_count": 1,
   "metadata": {},
   "outputs": [],
   "source": [
    "import pandas as pd\n",
    "from sklearn.svm import OneClassSVM\n"
   ]
  },
  {
   "cell_type": "code",
   "execution_count": 2,
   "metadata": {},
   "outputs": [
    {
     "name": "stdout",
     "output_type": "stream",
     "text": [
      "            id        Date Location  MinTemp  MaxTemp  Rainfall WindGustDir  \\\n",
      "177        178  2009-07-27   Albury      1.3      8.8       0.0           N   \n",
      "434        435  2010-06-21   Albury      5.0     12.5       0.4           W   \n",
      "628        629  2011-02-05   Albury     20.4     23.0      99.2          NW   \n",
      "698        699  2011-06-24   Albury      2.9     13.1       0.0         WNW   \n",
      "912        913  2012-03-01   Albury     17.1     20.9     104.2          SE   \n",
      "...        ...         ...      ...      ...      ...       ...         ...   \n",
      "112746  112747  2016-11-17    Uluru     20.5     38.7       0.0         SSW   \n",
      "112757  112758  2016-11-28    Uluru     14.9     38.7       0.0         SSW   \n",
      "112758  112759  2016-11-29    Uluru     17.1     41.5       0.0         SSE   \n",
      "112759  112760  2016-11-30    Uluru     19.3     40.9       0.0         WNW   \n",
      "112785  112786  2016-12-26    Uluru     22.1     27.4      83.8         ENE   \n",
      "\n",
      "        WindGustSpeed WindDir9am WindDir3pm  ...  Temp9am  Temp3pm  RainToday  \\\n",
      "177              20.0        ENE        NNW  ...      4.2      7.3         No   \n",
      "434              17.0          S          W  ...      7.4     11.8         No   \n",
      "628              28.0         NE         NW  ...     22.5     22.5        Yes   \n",
      "698              15.0         NE          S  ...      6.4     11.9         No   \n",
      "912              57.0          N         SE  ...     19.5     18.5        Yes   \n",
      "...               ...        ...        ...  ...      ...      ...        ...   \n",
      "112746           54.0          N        WNW  ...     29.8     37.1         No   \n",
      "112757           37.0         NE        ESE  ...     30.5     37.0         No   \n",
      "112758           63.0         NE        ESE  ...     30.9     39.2         No   \n",
      "112759           37.0         NE          W  ...     30.5     39.5         No   \n",
      "112785           72.0          N        NNW  ...     22.2     24.2        Yes   \n",
      "\n",
      "        RainTomorrow  AvgTemp    AvgWind  AvgRainfall  AvgHumidity  \\\n",
      "177              Yes     5.05  11.666667          0.0         95.0   \n",
      "434               No     8.75  11.666667          0.4         91.0   \n",
      "628              Yes    21.70  14.333333         99.2         96.0   \n",
      "698               No     8.00   9.333333          0.0         93.0   \n",
      "912              Yes    19.00  28.000000        104.2         92.5   \n",
      "...              ...      ...        ...          ...          ...   \n",
      "112746            No    29.60  32.666667          0.0          7.5   \n",
      "112757            No    26.80  24.333333          0.0          7.5   \n",
      "112758            No    29.30  28.333333          0.0          7.5   \n",
      "112759            No    30.10  18.333333          0.0          9.5   \n",
      "112785           Yes    24.75  48.666667         83.8        100.0   \n",
      "\n",
      "       AvgPressure Outlier  \n",
      "177        1019.90      -1  \n",
      "434        1034.15      -1  \n",
      "628        1007.95      -1  \n",
      "698        1028.05      -1  \n",
      "912        1001.95      -1  \n",
      "...            ...     ...  \n",
      "112746     1011.40      -1  \n",
      "112757     1010.90      -1  \n",
      "112758     1008.95      -1  \n",
      "112759     1006.35      -1  \n",
      "112785      991.90      -1  \n",
      "\n",
      "[1130 rows x 26 columns]\n"
     ]
    }
   ],
   "source": [
    "\n",
    "# Load the dataset into a Pandas DataFrame\n",
    "df = pd.read_csv('modified_weatherAUS.csv')\n",
    "\n",
    "# Select the relevant features for outlier detection\n",
    "X = df[['MinTemp', 'MaxTemp', 'Rainfall', 'WindGustSpeed', 'WindSpeed9am', 'WindSpeed3pm', 'Humidity9am', 'Humidity3pm', 'Pressure9am', 'Pressure3pm', 'Temp9am', 'Temp3pm', 'AvgTemp', 'AvgWind', 'AvgRainfall', 'AvgHumidity', 'AvgPressure']]\n",
    "\n",
    "# Train the One-Class SVM model\n",
    "clf = OneClassSVM(nu=0.01)\n",
    "clf.fit(X)\n",
    "\n",
    "# Predict the labels of the data points\n",
    "y_pred = clf.predict(X)\n",
    "\n",
    "# Add the predicted labels as a new column in the DataFrame\n",
    "df['Outlier'] = y_pred\n",
    "\n",
    "# Display the outliers\n",
    "outliers = df[df['Outlier'] == -1]\n",
    "print(outliers)"
   ]
  }
 ],
 "metadata": {
  "kernelspec": {
   "display_name": "Python 3",
   "language": "python",
   "name": "python3"
  },
  "language_info": {
   "codemirror_mode": {
    "name": "ipython",
    "version": 3
   },
   "file_extension": ".py",
   "mimetype": "text/x-python",
   "name": "python",
   "nbconvert_exporter": "python",
   "pygments_lexer": "ipython3",
   "version": "3.11.2"
  },
  "orig_nbformat": 4,
  "vscode": {
   "interpreter": {
    "hash": "aee8b7b246df8f9039afb4144a1f6fd8d2ca17a180786b69acc140d282b71a49"
   }
  }
 },
 "nbformat": 4,
 "nbformat_minor": 2
}
